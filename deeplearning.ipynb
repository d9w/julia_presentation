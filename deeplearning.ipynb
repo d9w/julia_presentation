{
 "cells": [
  {
   "cell_type": "markdown",
   "metadata": {
    "slideshow": {
     "slide_type": "slide"
    }
   },
   "source": [
    "# Deep Learning\n",
    "\n",
    "Many different frameworks in Julia, including Mocha, Knet, MXNet, Flux, and Tensorflow (wrapper of Python). "
   ]
  },
  {
   "cell_type": "code",
   "execution_count": 9,
   "metadata": {},
   "outputs": [
    {
     "name": "stderr",
     "output_type": "stream",
     "text": [
      "┌ Info: Recompiling stale cache file /home/d9w/.julia/compiled/v0.7/Flux/QdkVy.ji for Flux [587475ba-b771-5e3f-ad9e-33799f191a9c]\n",
      "└ @ Base loading.jl:1185\n",
      "┌ Warning: Module Compat with build ID 177904899955271 is missing from the cache.\n",
      "│ This may mean Compat [34da2185-b29b-5c13-b0c7-acf172513d20] does not support precompilation but is imported by a module that does.\n",
      "└ @ Base loading.jl:941\n",
      "┌ Warning: Module Compat with build ID 177904899955271 is missing from the cache.\n",
      "│ This may mean Compat [34da2185-b29b-5c13-b0c7-acf172513d20] does not support precompilation but is imported by a module that does.\n",
      "└ @ Base loading.jl:941\n",
      "┌ Info: Precompiling MacroTools [1914dd2f-81c6-5fcd-8719-6d5c9610ff09]\n",
      "└ @ Base loading.jl:1187\n",
      "┌ Warning: Module Compat with build ID 177904899955271 is missing from the cache.\n",
      "│ This may mean Compat [34da2185-b29b-5c13-b0c7-acf172513d20] does not support precompilation but is imported by a module that does.\n",
      "└ @ Base loading.jl:941\n",
      "┌ Info: Recompiling stale cache file /home/d9w/.julia/compiled/v0.7/Juno/eE3TV.ji for Juno [e5e0dc1b-0480-54bc-9374-aad01c23163d]\n",
      "└ @ Base loading.jl:1185\n",
      "┌ Warning: Module MacroTools with build ID 54492473708887 is missing from the cache.\n",
      "│ This may mean MacroTools [1914dd2f-81c6-5fcd-8719-6d5c9610ff09] does not support precompilation but is imported by a module that does.\n",
      "└ @ Base loading.jl:941\n",
      "┌ Warning: Module MacroTools with build ID 54492473708887 is missing from the cache.\n",
      "│ This may mean MacroTools [1914dd2f-81c6-5fcd-8719-6d5c9610ff09] does not support precompilation but is imported by a module that does.\n",
      "└ @ Base loading.jl:941\n",
      "┌ Info: Precompiling Media [e89f7d12-3494-54d1-8411-f7d8b9ae1f27]\n",
      "└ @ Base loading.jl:1187\n",
      "┌ Warning: Module MacroTools with build ID 54492473708887 is missing from the cache.\n",
      "│ This may mean MacroTools [1914dd2f-81c6-5fcd-8719-6d5c9610ff09] does not support precompilation but is imported by a module that does.\n",
      "└ @ Base loading.jl:941\n",
      "┌ Info: Recompiling stale cache file /home/d9w/.julia/compiled/v0.7/NNlib/A7zdE.ji for NNlib [872c559c-99b0-510c-b3b7-b6c96a88d5cd]\n",
      "└ @ Base loading.jl:1185\n"
     ]
    },
    {
     "name": "stdout",
     "output_type": "stream",
     "text": [
      "loaded\n"
     ]
    },
    {
     "name": "stderr",
     "output_type": "stream",
     "text": [
      "┌ Info: Recompiling stale cache file /home/d9w/.julia/compiled/v0.7/SpecialFunctions/78gOt.ji for SpecialFunctions [276daf66-3868-5448-9aa4-cd146d93841b]\n",
      "└ @ Base loading.jl:1185\n",
      "┌ Info: Recompiling stale cache file /home/d9w/.julia/compiled/v0.7/NaNMath/k9Y1O.ji for NaNMath [77ba4419-2d1f-58cd-9bb1-8ffee604a2e3]\n",
      "└ @ Base loading.jl:1185\n",
      "┌ Warning: Module Compat with build ID 177904899955271 is missing from the cache.\n",
      "│ This may mean Compat [34da2185-b29b-5c13-b0c7-acf172513d20] does not support precompilation but is imported by a module that does.\n",
      "└ @ Base loading.jl:941\n",
      "┌ Info: Recompiling stale cache file /home/d9w/.julia/compiled/v0.7/ForwardDiff/k0ETY.ji for ForwardDiff [f6369f11-7733-5829-9624-2563aa707210]\n",
      "└ @ Base loading.jl:1185\n",
      "┌ Warning: Module Compat with build ID 177904899955271 is missing from the cache.\n",
      "│ This may mean Compat [34da2185-b29b-5c13-b0c7-acf172513d20] does not support precompilation but is imported by a module that does.\n",
      "└ @ Base loading.jl:941\n",
      "┌ Warning: Module Compat with build ID 177904899955271 is missing from the cache.\n",
      "│ This may mean Compat [34da2185-b29b-5c13-b0c7-acf172513d20] does not support precompilation but is imported by a module that does.\n",
      "└ @ Base loading.jl:941\n",
      "┌ Info: Precompiling DiffResults [163ba53b-c6d8-5494-b064-1a9d43ac40c5]\n",
      "└ @ Base loading.jl:1187\n",
      "┌ Warning: Module Compat with build ID 177904899955271 is missing from the cache.\n",
      "│ This may mean Compat [34da2185-b29b-5c13-b0c7-acf172513d20] does not support precompilation but is imported by a module that does.\n",
      "└ @ Base loading.jl:941\n",
      "┌ Info: Recompiling stale cache file /home/d9w/.julia/compiled/v0.7/Adapt/rUIgN.ji for Adapt [79e6a3ab-5dfb-504d-930d-738a2a938a0e]\n",
      "└ @ Base loading.jl:1185\n",
      "┌ Info: Recompiling stale cache file /home/d9w/.julia/compiled/v0.7/Colors/NKjaT.ji for Colors [5ae59095-9a9b-59fe-a467-6f913c188581]\n",
      "└ @ Base loading.jl:1185\n"
     ]
    }
   ],
   "source": [
    "using Flux"
   ]
  },
  {
   "cell_type": "markdown",
   "metadata": {},
   "source": [
    "## Flux.jl\n",
    "\n",
    "We'll look at Flux, a new library with keras-like syntax"
   ]
  },
  {
   "cell_type": "code",
   "execution_count": null,
   "metadata": {},
   "outputs": [],
   "source": [
    "model = Chain(\n",
    "  Dense(768, 128, σ),\n",
    "  LSTM(128, 256),\n",
    "  LSTM(256, 128),\n",
    "  Dense(128, 10),\n",
    "  softmax)\n",
    "\n",
    "loss(train_x, train_y) = crossentropy(model(x), y)\n",
    "\n",
    "Flux.train!(loss, data, ADAM())"
   ]
  }
 ],
 "metadata": {
  "@webio": {
   "lastCommId": "559bf172b66b48368c1be1a69d5e9d49",
   "lastKernelId": "b8050dec-2f4d-4c96-b017-adc3197f4843"
  },
  "celltoolbar": "Slideshow",
  "kernelspec": {
   "display_name": "Julia 0.7.0",
   "language": "julia",
   "name": "julia-0.7"
  },
  "language_info": {
   "file_extension": ".jl",
   "mimetype": "application/julia",
   "name": "julia",
   "version": "0.7.0"
  }
 },
 "nbformat": 4,
 "nbformat_minor": 2
}
